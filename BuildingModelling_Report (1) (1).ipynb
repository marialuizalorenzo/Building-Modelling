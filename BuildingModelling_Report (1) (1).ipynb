{
 "cells": [
  {
   "cell_type": "markdown",
   "id": "30d25388-5c94-4b0b-a66b-c42a82a2f106",
   "metadata": {},
   "source": [
    "# Building Modelling Project\n",
    "#### with Christian Ghiaus"
   ]
  },
  {
   "cell_type": "markdown",
   "id": "223f3cb6-6ef6-4780-b26f-c68da1d04f2a",
   "metadata": {},
   "source": [
    "#### FINAL REPORT\n",
    "\n",
    "- Bin GUO\n",
    "- Katarina FERREIRA\n",
    "- Maria Luiza LORENZO\n",
    "- Sara IZADI\n",
    "- Wiam RAZI\n",
    "\n",
    "#### SEM / SGB\n",
    "\n",
    "\n",
    "\n",
    "\n"
   ]
  },
  {
   "cell_type": "markdown",
   "id": "1992a05f-8838-4daa-913f-ba2bd830e62a",
   "metadata": {},
   "source": [
    "#### 1. Introduction\n"
   ]
  },
  {
   "cell_type": "markdown",
   "id": "3df99a6f-174f-4b80-b68c-cb6dabda277e",
   "metadata": {},
   "source": [
    "The demand for energy rises constantly worldwide. It has become an urgent matter for many sectors to try to reduce their energy consumption. The building sector is one of the most important ones in this discussion, corresponding to almost 40% of the energy consumption and carbon emissions worldwide [1], and most of the energy used in\n",
    "building is usually used for thermal comfort and air quality. \n",
    "\n",
    "\n",
    "![global_share_building_sector.png](global_share_building_sector.png)\n",
    "\n",
    "Building modelling is therefore of great importance, because it can provide very accurate energy consumption data for a set of defined input criteria, that can then be optimized in order to reduce the thermal losses and the energy consumption of the studied case.  \n",
    "\n",
    "The purpose of this project is the estimation of energy efficiency of a smart home by modelling and simulating a building plan, using a Python code. \n"
   ]
  },
  {
   "cell_type": "markdown",
   "id": "97cbd4a2",
   "metadata": {},
   "source": [
    "#### 2. Hypothesis"
   ]
  },
  {
   "cell_type": "markdown",
   "id": "cb7f5582",
   "metadata": {},
   "source": [
    "In order to perform this study, some hypotesis had to be made. Those were:\n",
    "   - The temperature distribution is homogenous inside the ambient.\n",
    "   - The heat transfer is considered as a linear and one-dimensional process.\n",
    "   - The temperature is uniform at the walls’ surface.\n",
    "   - The heat exchange by long-wave irradiation between Walls and glasses are neglected (GLW → 0)."
   ]
  },
  {
   "cell_type": "markdown",
   "id": "3e1bf832",
   "metadata": {},
   "source": [
    "#### 3. Building Plan"
   ]
  },
  {
   "cell_type": "markdown",
   "id": "cb210592",
   "metadata": {},
   "source": [
    "To start the project, the model of the building has to be set, more specifically the sizing of the apartment that is going to be studied. For this project, a studio of 18m² was set, with a 3m² bathroom and a window. Figure 1 shows the model of this apartment, with all the dimensions in meters.\n",
    "\n",
    "![building_model.jpg](building_model.jpg)\n",
    "\n",
    "The walls of the apartment are composed of an inside layer of insulation material, and an outside layer of concrete, except the bathroom walls that are inside the apartment. The doors are composed of wood and the window is composed of glass. On the two sides of the apartment are other studios, and the door connects to the hallway."
   ]
  },
  {
   "cell_type": "markdown",
   "id": "15d37f14",
   "metadata": {},
   "source": [
    "#### 4. Thermal Model\n"
   ]
  },
  {
   "cell_type": "markdown",
   "id": "e3a9b709",
   "metadata": {},
   "source": [
    "The thermal model is designed to represent the heat flux exchanges in the studied surfaces. The model is done by following a procedure. First, the control surfaces are represented on a schematic. Then, the relevant heat transfers must be identified. The next step is to connect the temperatures by resistances along the heat transfer paths, and adding storage and sources. The schematic diagram is shown in Figure 2, with which the problem can be solved more easily, what will be explained further on.\n",
    "\n",
    "![ThermalScheme.jpg](ThermalScheme.jpg)\n",
    "\n",
    "The heat phenomenons that can happen are: \n",
    "- Convection: A diffusion and mass transfer mechanism that occurs inside a material. The resistance for convection is given by: \n",
    "![convection.png](convection.png)\n",
    "\n",
    "- Conduction: A diffusion mechanism  that occurs inside a material. The resistance for convection is given by:  \n",
    "![conduction.png](conduction.png)\n",
    "\n",
    "To represent the important parameters and the relations in the system, some matrices are important. They are explained in the sequence. \n",
    "\n",
    "The incidence matrix A shows how the temperature nodes are connected to each other, it has a number of lines equal to the number of flows and the number of columns equal to the number of nodes. During the design of the thermal model, a direction of the flow has to be defined. If the flow is in the same direction as the path from the branch, the coefficient in the A matrix will be -1. , and if they are in opposite directions, the coefficient will be -1. \n",
    "\n",
    "The Conductance matrix G is a diagonal matrix that contains the conductances. The elements of the diagonal are the inverse of the conduction and convection resistances.\n",
    "\n",
    "The Capacity Matrix C, is also a diagonal matrix containing the capacities of the walls. The values are defined by the dimensions and materials chosen. The dimension of the matrix is given by the number of nodes in the diagram. For the nodes that are connected to a capacity, the C matrix element corresponds to the following equation. \n",
    "\n",
    "![Cmatrix.png](Cmatrix.png)\n",
    "\n",
    "The f and b matrices represent the constraints imposed on the model. In the matrix f, the nodes where there is a source are marked. In matrix b, the branches connected to a temperature are marked. \n",
    "\n",
    "##### Parameters"
   ]
  },
  {
   "cell_type": "markdown",
   "id": "dcc88687",
   "metadata": {},
   "source": [
    "#### 5. Simulation\n"
   ]
  },
  {
   "cell_type": "code",
   "execution_count": null,
   "id": "8dd59e11",
   "metadata": {},
   "outputs": [],
   "source": []
  },
  {
   "cell_type": "markdown",
   "id": "ffb16a1e",
   "metadata": {},
   "source": [
    "#### 6. Results and Analysis\n"
   ]
  },
  {
   "cell_type": "code",
   "execution_count": null,
   "id": "d5d57a6e",
   "metadata": {},
   "outputs": [],
   "source": []
  },
  {
   "cell_type": "markdown",
   "id": "fd50e479",
   "metadata": {},
   "source": [
    "#### 7. Conclusion "
   ]
  },
  {
   "cell_type": "code",
   "execution_count": null,
   "id": "3cd37679",
   "metadata": {},
   "outputs": [],
   "source": []
  },
  {
   "cell_type": "markdown",
   "id": "b7c400e0",
   "metadata": {},
   "source": [
    "#### 8. References"
   ]
  },
  {
   "cell_type": "markdown",
   "id": "fa2356d9",
   "metadata": {},
   "source": [
    "[1] GLOBAL STATUS REPORT FOR BUILDINGS AND CONSTRUCTION, 2020. Available on:  https://wedocs.unep.org/bitstream/handle/20.500.11822/34572/GSR_ES.pdf"
   ]
  },
  {
   "cell_type": "code",
   "execution_count": null,
   "id": "3520f006-e088-41f2-ad20-fe4cdda9f005",
   "metadata": {},
   "outputs": [],
   "source": []
  },
  {
   "cell_type": "code",
   "execution_count": null,
   "id": "4826054d-ba2d-44a7-8245-14b2835c0154",
   "metadata": {},
   "outputs": [],
   "source": []
  }
 ],
 "metadata": {
  "kernelspec": {
   "display_name": "Python 3 (ipykernel)",
   "language": "python",
   "name": "python3"
  },
  "language_info": {
   "codemirror_mode": {
    "name": "ipython",
    "version": 3
   },
   "file_extension": ".py",
   "mimetype": "text/x-python",
   "name": "python",
   "nbconvert_exporter": "python",
   "pygments_lexer": "ipython3",
   "version": "3.9.7"
  }
 },
 "nbformat": 4,
 "nbformat_minor": 5
}
